{
 "cells": [
  {
   "cell_type": "code",
   "execution_count": 2,
   "id": "1db1ac9b",
   "metadata": {},
   "outputs": [
    {
     "name": "stdout",
     "output_type": "stream",
     "text": [
      "Twinkle, twinkle, little star\n",
      "         How I wonder what you are\n",
      "              Up above the world so high\n",
      "              Like a diamond in the sky\n",
      "Twinkle, twinkle, little star\n",
      "         How I wonder what you are\n"
     ]
    }
   ],
   "source": [
    "print (\"Twinkle, twinkle, little star\");\n",
    "print (\"         How I wonder what you are\");\n",
    "print (\"              Up above the world so high\");\n",
    "print (\"              Like a diamond in the sky\");\n",
    "print (\"Twinkle, twinkle, little star\");\n",
    "print (\"         How I wonder what you are\");"
   ]
  },
  {
   "cell_type": "code",
   "execution_count": 4,
   "id": "80d306d8",
   "metadata": {},
   "outputs": [
    {
     "name": "stdout",
     "output_type": "stream",
     "text": [
      "Python Current Version is : 3.9.7 (default, Sep 16 2021, 16:59:28) [MSC v.1916 64 bit (AMD64)]\n",
      "Thank you\n"
     ]
    }
   ],
   "source": [
    "import sys\n",
    "print(\"Python Current Version is :\",sys.version)\n",
    "print(\"Thank you\")"
   ]
  },
  {
   "cell_type": "code",
   "execution_count": 6,
   "id": "d0746af8",
   "metadata": {},
   "outputs": [
    {
     "name": "stdout",
     "output_type": "stream",
     "text": [
      "Current Date and Time :\n",
      "2022-01-01 14:53:59\n"
     ]
    }
   ],
   "source": [
    "import datetime\n",
    "currentDate=datetime.datetime.now()\n",
    "print(\"Current Date and Time :\")\n",
    "print(currentDate.strftime(\"%Y-%m-%d %H:%M:%S\"))\n"
   ]
  },
  {
   "cell_type": "code",
   "execution_count": 10,
   "id": "ccfca7f0",
   "metadata": {},
   "outputs": [
    {
     "name": "stdout",
     "output_type": "stream",
     "text": [
      "Enter Radious....8\n",
      "Area of circle is : 200.96\n"
     ]
    }
   ],
   "source": [
    "radious=input(\"Enter Radious....\");\n",
    "Area=float(3.14)*float(radious)*float(radious)\n",
    "print(\"Area of circle is :\",Area);\n"
   ]
  },
  {
   "cell_type": "code",
   "execution_count": 12,
   "id": "c655a415",
   "metadata": {},
   "outputs": [
    {
     "name": "stdout",
     "output_type": "stream",
     "text": [
      "First Name Please....Jai\n",
      "Last Name Please....Parkash\n",
      "Parkash Jai\n"
     ]
    }
   ],
   "source": [
    "FirstName=input(\"First Name Please....\");\n",
    "LastName=input(\"Last Name Please....\");\n",
    "print(LastName +\" \"+FirstName);"
   ]
  },
  {
   "cell_type": "code",
   "execution_count": 16,
   "id": "10ced43a",
   "metadata": {},
   "outputs": [
    {
     "name": "stdout",
     "output_type": "stream",
     "text": [
      "Enter First value....45\n",
      "Enter Second Value....5\n",
      "Addition : 50\n"
     ]
    }
   ],
   "source": [
    "Value1=input(\"Enter First value....\");\n",
    "Value2=input(\"Enter Second Value....\");\n",
    "addition=int(int(Value1)+int(Value2));\n",
    "print(\"Addition :\",addition);"
   ]
  },
  {
   "cell_type": "code",
   "execution_count": null,
   "id": "2e3fb47d",
   "metadata": {},
   "outputs": [],
   "source": []
  }
 ],
 "metadata": {
  "kernelspec": {
   "display_name": "Python 3 (ipykernel)",
   "language": "python",
   "name": "python3"
  },
  "language_info": {
   "codemirror_mode": {
    "name": "ipython",
    "version": 3
   },
   "file_extension": ".py",
   "mimetype": "text/x-python",
   "name": "python",
   "nbconvert_exporter": "python",
   "pygments_lexer": "ipython3",
   "version": "3.9.7"
  }
 },
 "nbformat": 4,
 "nbformat_minor": 5
}
